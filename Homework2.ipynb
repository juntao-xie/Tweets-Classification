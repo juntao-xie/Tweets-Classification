{
 "cells": [
  {
   "cell_type": "markdown",
   "metadata": {},
   "source": [
    "# Binary Classification on Text Data"
   ]
  },
  {
   "cell_type": "markdown",
   "metadata": {},
   "source": [
    "## (a) Download the data."
   ]
  },
  {
   "cell_type": "markdown",
   "metadata": {},
   "source": [
    "(1) There are 7613 data points in the training dataset and 3263 in the testing dataset.\n",
    "\n",
    "(2) 42.97% of the training tweets are of real disasters and 57.03% of them are not."
   ]
  },
  {
   "cell_type": "code",
   "execution_count": 1,
   "metadata": {},
   "outputs": [],
   "source": [
    "import pandas as pd\n",
    "from sklearn.model_selection import train_test_split\n",
    "import re\n",
    "import string\n",
    "import nltk\n",
    "from nltk.corpus import stopwords\n",
    "from nltk.tokenize import word_tokenize \n",
    "from sklearn.feature_extraction.text import CountVectorizer\n",
    "from nltk.stem import WordNetLemmatizer\n",
    "from nltk.corpus import wordnet"
   ]
  },
  {
   "cell_type": "code",
   "execution_count": 3,
   "metadata": {},
   "outputs": [
    {
     "name": "stderr",
     "output_type": "stream",
     "text": [
      "[nltk_data] Downloading package punkt to /Users/qiuyiliu/nltk_data...\n",
      "[nltk_data]   Package punkt is already up-to-date!\n",
      "[nltk_data] Downloading package wordnet to\n",
      "[nltk_data]     /Users/qiuyiliu/nltk_data...\n",
      "[nltk_data]   Package wordnet is already up-to-date!\n",
      "[nltk_data] Downloading package averaged_perceptron_tagger to\n",
      "[nltk_data]     /Users/qiuyiliu/nltk_data...\n",
      "[nltk_data]   Package averaged_perceptron_tagger is already up-to-\n",
      "[nltk_data]       date!\n",
      "[nltk_data] Downloading package stopwords to\n",
      "[nltk_data]     /Users/qiuyiliu/nltk_data...\n",
      "[nltk_data]   Package stopwords is already up-to-date!\n"
     ]
    },
    {
     "data": {
      "text/plain": [
       "True"
      ]
     },
     "execution_count": 3,
     "metadata": {},
     "output_type": "execute_result"
    }
   ],
   "source": [
    "nltk.download('punkt')\n",
    "nltk.download('wordnet')\n",
    "nltk.download('averaged_perceptron_tagger')\n",
    "nltk.download('stopwords')"
   ]
  },
  {
   "cell_type": "code",
   "execution_count": 4,
   "metadata": {},
   "outputs": [],
   "source": [
    "train = pd.read_csv(\"/Users/qiuyiliu/Desktop/Cornell Tech/Applied Machine Learning/HW2/train.csv\")\n",
    "test = pd.read_csv(\"/Users/qiuyiliu/Desktop/Cornell Tech/Applied Machine Learning/HW2/test.csv\")"
   ]
  },
  {
   "cell_type": "code",
   "execution_count": 5,
   "metadata": {},
   "outputs": [
    {
     "name": "stdout",
     "output_type": "stream",
     "text": [
      "<class 'pandas.core.frame.DataFrame'>\n",
      "RangeIndex: 7613 entries, 0 to 7612\n",
      "Data columns (total 5 columns):\n",
      " #   Column    Non-Null Count  Dtype \n",
      "---  ------    --------------  ----- \n",
      " 0   id        7613 non-null   int64 \n",
      " 1   keyword   7552 non-null   object\n",
      " 2   location  5080 non-null   object\n",
      " 3   text      7613 non-null   object\n",
      " 4   target    7613 non-null   int64 \n",
      "dtypes: int64(2), object(3)\n",
      "memory usage: 297.5+ KB\n"
     ]
    }
   ],
   "source": [
    "train.info()"
   ]
  },
  {
   "cell_type": "code",
   "execution_count": 6,
   "metadata": {},
   "outputs": [
    {
     "name": "stdout",
     "output_type": "stream",
     "text": [
      "<class 'pandas.core.frame.DataFrame'>\n",
      "RangeIndex: 3263 entries, 0 to 3262\n",
      "Data columns (total 4 columns):\n",
      " #   Column    Non-Null Count  Dtype \n",
      "---  ------    --------------  ----- \n",
      " 0   id        3263 non-null   int64 \n",
      " 1   keyword   3237 non-null   object\n",
      " 2   location  2158 non-null   object\n",
      " 3   text      3263 non-null   object\n",
      "dtypes: int64(1), object(3)\n",
      "memory usage: 102.1+ KB\n"
     ]
    }
   ],
   "source": [
    "test.info()"
   ]
  },
  {
   "cell_type": "code",
   "execution_count": 7,
   "metadata": {},
   "outputs": [
    {
     "name": "stdout",
     "output_type": "stream",
     "text": [
      "0.4296597924602653 0.5703402075397347\n"
     ]
    }
   ],
   "source": [
    "train_real = sum(train.target)/len(train.target)\n",
    "train_not = 1 - train_real\n",
    "print(train_real, train_not)"
   ]
  },
  {
   "cell_type": "markdown",
   "metadata": {},
   "source": [
    "## (b) Split the training data."
   ]
  },
  {
   "cell_type": "code",
   "execution_count": 8,
   "metadata": {},
   "outputs": [],
   "source": [
    "train, dev = train_test_split(train,train_size = 0.7,random_state = 123)"
   ]
  },
  {
   "cell_type": "code",
   "execution_count": 9,
   "metadata": {},
   "outputs": [
    {
     "name": "stdout",
     "output_type": "stream",
     "text": [
      "<class 'pandas.core.frame.DataFrame'>\n",
      "Int64Index: 5329 entries, 1504 to 3582\n",
      "Data columns (total 5 columns):\n",
      " #   Column    Non-Null Count  Dtype \n",
      "---  ------    --------------  ----- \n",
      " 0   id        5329 non-null   int64 \n",
      " 1   keyword   5290 non-null   object\n",
      " 2   location  3583 non-null   object\n",
      " 3   text      5329 non-null   object\n",
      " 4   target    5329 non-null   int64 \n",
      "dtypes: int64(2), object(3)\n",
      "memory usage: 249.8+ KB\n"
     ]
    }
   ],
   "source": [
    "train.info()"
   ]
  },
  {
   "cell_type": "code",
   "execution_count": 10,
   "metadata": {},
   "outputs": [
    {
     "name": "stdout",
     "output_type": "stream",
     "text": [
      "<class 'pandas.core.frame.DataFrame'>\n",
      "Int64Index: 2284 entries, 1971 to 4802\n",
      "Data columns (total 5 columns):\n",
      " #   Column    Non-Null Count  Dtype \n",
      "---  ------    --------------  ----- \n",
      " 0   id        2284 non-null   int64 \n",
      " 1   keyword   2262 non-null   object\n",
      " 2   location  1497 non-null   object\n",
      " 3   text      2284 non-null   object\n",
      " 4   target    2284 non-null   int64 \n",
      "dtypes: int64(2), object(3)\n",
      "memory usage: 107.1+ KB\n"
     ]
    }
   ],
   "source": [
    "dev.info()"
   ]
  },
  {
   "cell_type": "markdown",
   "metadata": {},
   "source": [
    "## (c) Preprocess the Data."
   ]
  },
  {
   "cell_type": "markdown",
   "metadata": {},
   "source": [
    "- Expand Contractions. (ref: https://www.kaggle.com/gunesevitan/nlp-with-disaster-tweets-eda-cleaning-and-bert)"
   ]
  },
  {
   "cell_type": "code",
   "execution_count": 11,
   "metadata": {},
   "outputs": [
    {
     "data": {
      "text/plain": [
       "1504    'Invading Iraq was a catastrophic mistake'.\\n\\...\n",
       "6984    Crazy Mom Threw Teen Daughter a NUDE Twister S...\n",
       "2998    Kids Disappear in Dust Storm in Atmospheric Au...\n",
       "3181    NHS England announces new plan to meet emergen...\n",
       "2381    Lake Dallas crash causes train to derail http:...\n",
       "Name: text_ex, dtype: object"
      ]
     },
     "execution_count": 11,
     "metadata": {},
     "output_type": "execute_result"
    }
   ],
   "source": [
    "def expand(tweet):\n",
    "    tweet = re.sub(r\"he's\", \"he is\", tweet)\n",
    "    tweet = re.sub(r\"there's\", \"there is\", tweet)\n",
    "    tweet = re.sub(r\"We're\", \"We are\", tweet)\n",
    "    tweet = re.sub(r\"That's\", \"That is\", tweet)\n",
    "    tweet = re.sub(r\"won't\", \"will not\", tweet)\n",
    "    tweet = re.sub(r\"they're\", \"they are\", tweet)\n",
    "    tweet = re.sub(r\"Can't\", \"Cannot\", tweet)\n",
    "    tweet = re.sub(r\"wasn't\", \"was not\", tweet)\n",
    "    tweet = re.sub(r\"don\\x89Ûªt\", \"do not\", tweet)\n",
    "    tweet = re.sub(r\"aren't\", \"are not\", tweet)\n",
    "    tweet = re.sub(r\"isn't\", \"is not\", tweet)\n",
    "    tweet = re.sub(r\"What's\", \"What is\", tweet)\n",
    "    tweet = re.sub(r\"haven't\", \"have not\", tweet)\n",
    "    tweet = re.sub(r\"hasn't\", \"has not\", tweet)\n",
    "    tweet = re.sub(r\"There's\", \"There is\", tweet)\n",
    "    tweet = re.sub(r\"He's\", \"He is\", tweet)\n",
    "    tweet = re.sub(r\"It's\", \"It is\", tweet)\n",
    "    tweet = re.sub(r\"You're\", \"You are\", tweet)\n",
    "    tweet = re.sub(r\"I'M\", \"I am\", tweet)\n",
    "    tweet = re.sub(r\"shouldn't\", \"should not\", tweet)\n",
    "    tweet = re.sub(r\"wouldn't\", \"would not\", tweet)\n",
    "    tweet = re.sub(r\"i'm\", \"I am\", tweet)\n",
    "    tweet = re.sub(r\"I\\x89Ûªm\", \"I am\", tweet)\n",
    "    tweet = re.sub(r\"I'm\", \"I am\", tweet)\n",
    "    tweet = re.sub(r\"Isn't\", \"is not\", tweet)\n",
    "    tweet = re.sub(r\"Here's\", \"Here is\", tweet)\n",
    "    tweet = re.sub(r\"you've\", \"you have\", tweet)\n",
    "    tweet = re.sub(r\"you\\x89Ûªve\", \"you have\", tweet)\n",
    "    tweet = re.sub(r\"we're\", \"we are\", tweet)\n",
    "    tweet = re.sub(r\"what's\", \"what is\", tweet)\n",
    "    tweet = re.sub(r\"couldn't\", \"could not\", tweet)\n",
    "    tweet = re.sub(r\"we've\", \"we have\", tweet)\n",
    "    tweet = re.sub(r\"it\\x89Ûªs\", \"it is\", tweet)\n",
    "    tweet = re.sub(r\"doesn\\x89Ûªt\", \"does not\", tweet)\n",
    "    tweet = re.sub(r\"It\\x89Ûªs\", \"It is\", tweet)\n",
    "    tweet = re.sub(r\"Here\\x89Ûªs\", \"Here is\", tweet)\n",
    "    tweet = re.sub(r\"who's\", \"who is\", tweet)\n",
    "    tweet = re.sub(r\"I\\x89Ûªve\", \"I have\", tweet)\n",
    "    tweet = re.sub(r\"y'all\", \"you all\", tweet)\n",
    "    tweet = re.sub(r\"can\\x89Ûªt\", \"cannot\", tweet)\n",
    "    tweet = re.sub(r\"would've\", \"would have\", tweet)\n",
    "    tweet = re.sub(r\"it'll\", \"it will\", tweet)\n",
    "    tweet = re.sub(r\"we'll\", \"we will\", tweet)\n",
    "    tweet = re.sub(r\"wouldn\\x89Ûªt\", \"would not\", tweet)\n",
    "    tweet = re.sub(r\"We've\", \"We have\", tweet)\n",
    "    tweet = re.sub(r\"he'll\", \"he will\", tweet)\n",
    "    tweet = re.sub(r\"Y'all\", \"You all\", tweet)\n",
    "    tweet = re.sub(r\"Weren't\", \"Were not\", tweet)\n",
    "    tweet = re.sub(r\"Didn't\", \"Did not\", tweet)\n",
    "    tweet = re.sub(r\"they'll\", \"they will\", tweet)\n",
    "    tweet = re.sub(r\"they'd\", \"they would\", tweet)\n",
    "    tweet = re.sub(r\"DON'T\", \"DO NOT\", tweet)\n",
    "    tweet = re.sub(r\"That\\x89Ûªs\", \"That is\", tweet)\n",
    "    tweet = re.sub(r\"they've\", \"they have\", tweet)\n",
    "    tweet = re.sub(r\"i'd\", \"I would\", tweet)\n",
    "    tweet = re.sub(r\"should've\", \"should have\", tweet)\n",
    "    tweet = re.sub(r\"You\\x89Ûªre\", \"You are\", tweet)\n",
    "    tweet = re.sub(r\"where's\", \"where is\", tweet)\n",
    "    tweet = re.sub(r\"Don\\x89Ûªt\", \"Do not\", tweet)\n",
    "    tweet = re.sub(r\"we'd\", \"we would\", tweet)\n",
    "    tweet = re.sub(r\"i'll\", \"I will\", tweet)\n",
    "    tweet = re.sub(r\"weren't\", \"were not\", tweet)\n",
    "    tweet = re.sub(r\"They're\", \"They are\", tweet)\n",
    "    tweet = re.sub(r\"Can\\x89Ûªt\", \"Cannot\", tweet)\n",
    "    tweet = re.sub(r\"you\\x89Ûªll\", \"you will\", tweet)\n",
    "    tweet = re.sub(r\"I\\x89Ûªd\", \"I would\", tweet)\n",
    "    tweet = re.sub(r\"let's\", \"let us\", tweet)\n",
    "    tweet = re.sub(r\"it's\", \"it is\", tweet)\n",
    "    tweet = re.sub(r\"can't\", \"cannot\", tweet)\n",
    "    tweet = re.sub(r\"don't\", \"do not\", tweet)\n",
    "    tweet = re.sub(r\"you're\", \"you are\", tweet)\n",
    "    tweet = re.sub(r\"i've\", \"I have\", tweet)\n",
    "    tweet = re.sub(r\"that's\", \"that is\", tweet)\n",
    "    tweet = re.sub(r\"i'll\", \"I will\", tweet)\n",
    "    tweet = re.sub(r\"doesn't\", \"does not\", tweet)\n",
    "    tweet = re.sub(r\"i'd\", \"I would\", tweet)\n",
    "    tweet = re.sub(r\"didn't\", \"did not\", tweet)\n",
    "    tweet = re.sub(r\"ain't\", \"am not\", tweet)\n",
    "    tweet = re.sub(r\"you'll\", \"you will\", tweet)\n",
    "    tweet = re.sub(r\"I've\", \"I have\", tweet)\n",
    "    tweet = re.sub(r\"Don't\", \"do not\", tweet)\n",
    "    tweet = re.sub(r\"I'll\", \"I will\", tweet)\n",
    "    tweet = re.sub(r\"I'd\", \"I would\", tweet)\n",
    "    tweet = re.sub(r\"Let's\", \"Let us\", tweet)\n",
    "    tweet = re.sub(r\"you'd\", \"You would\", tweet)\n",
    "    tweet = re.sub(r\"It's\", \"It is\", tweet)\n",
    "    tweet = re.sub(r\"Ain't\", \"am not\", tweet)\n",
    "    tweet = re.sub(r\"Haven't\", \"Have not\", tweet)\n",
    "    tweet = re.sub(r\"Could've\", \"Could have\", tweet)\n",
    "    tweet = re.sub(r\"youve\", \"you have\", tweet)  \n",
    "    tweet = re.sub(r\"don't\", \"do not\", tweet)  \n",
    "    return tweet\n",
    "train['text_ex'] = train['text'].apply(expand)\n",
    "train['text_ex'].head()"
   ]
  },
  {
   "cell_type": "code",
   "execution_count": 12,
   "metadata": {},
   "outputs": [
    {
     "data": {
      "text/plain": [
       "1971    1970 Mercury Cyclone GT Hood Moulding Very NIC...\n",
       "2502    The Desolate Hope: Part 2: MIRAD: http://t.co/...\n",
       "5371    we was all just laughing and talking junk now ...\n",
       "6258                                      FINALLY a storm\n",
       "549     Dragon Ball Z: Battle Of Gods (2014) - Rotten ...\n",
       "Name: text_ex, dtype: object"
      ]
     },
     "execution_count": 12,
     "metadata": {},
     "output_type": "execute_result"
    }
   ],
   "source": [
    "dev['text_ex'] = dev['text'].apply(expand)\n",
    "dev['text_ex'].head()"
   ]
  },
  {
   "cell_type": "markdown",
   "metadata": {},
   "source": [
    "- Convert all the words to lowercase"
   ]
  },
  {
   "cell_type": "code",
   "execution_count": 13,
   "metadata": {},
   "outputs": [
    {
     "data": {
      "text/html": [
       "<div>\n",
       "<style scoped>\n",
       "    .dataframe tbody tr th:only-of-type {\n",
       "        vertical-align: middle;\n",
       "    }\n",
       "\n",
       "    .dataframe tbody tr th {\n",
       "        vertical-align: top;\n",
       "    }\n",
       "\n",
       "    .dataframe thead th {\n",
       "        text-align: right;\n",
       "    }\n",
       "</style>\n",
       "<table border=\"1\" class=\"dataframe\">\n",
       "  <thead>\n",
       "    <tr style=\"text-align: right;\">\n",
       "      <th></th>\n",
       "      <th>id</th>\n",
       "      <th>keyword</th>\n",
       "      <th>location</th>\n",
       "      <th>text</th>\n",
       "      <th>target</th>\n",
       "      <th>text_ex</th>\n",
       "      <th>text_lower</th>\n",
       "    </tr>\n",
       "  </thead>\n",
       "  <tbody>\n",
       "    <tr>\n",
       "      <th>1504</th>\n",
       "      <td>2172</td>\n",
       "      <td>catastrophic</td>\n",
       "      <td>Buxton, Venice, and Nottingham</td>\n",
       "      <td>'Invading Iraq was a catastrophic mistake'.\\n\\...</td>\n",
       "      <td>1</td>\n",
       "      <td>'Invading Iraq was a catastrophic mistake'.\\n\\...</td>\n",
       "      <td>'invading iraq was a catastrophic mistake'.\\n\\...</td>\n",
       "    </tr>\n",
       "    <tr>\n",
       "      <th>6984</th>\n",
       "      <td>10016</td>\n",
       "      <td>twister</td>\n",
       "      <td>Detroit</td>\n",
       "      <td>Crazy Mom Threw Teen Daughter a NUDE Twister S...</td>\n",
       "      <td>0</td>\n",
       "      <td>Crazy Mom Threw Teen Daughter a NUDE Twister S...</td>\n",
       "      <td>crazy mom threw teen daughter a nude twister s...</td>\n",
       "    </tr>\n",
       "    <tr>\n",
       "      <th>2998</th>\n",
       "      <td>4306</td>\n",
       "      <td>dust%20storm</td>\n",
       "      <td>NaN</td>\n",
       "      <td>Kids Disappear in Dust Storm in Atmospheric Au...</td>\n",
       "      <td>1</td>\n",
       "      <td>Kids Disappear in Dust Storm in Atmospheric Au...</td>\n",
       "      <td>kids disappear in dust storm in atmospheric au...</td>\n",
       "    </tr>\n",
       "    <tr>\n",
       "      <th>3181</th>\n",
       "      <td>4567</td>\n",
       "      <td>emergency%20plan</td>\n",
       "      <td>Surrey &amp; Manchester</td>\n",
       "      <td>NHS England announces new plan to meet emergen...</td>\n",
       "      <td>0</td>\n",
       "      <td>NHS England announces new plan to meet emergen...</td>\n",
       "      <td>nhs england announces new plan to meet emergen...</td>\n",
       "    </tr>\n",
       "    <tr>\n",
       "      <th>2381</th>\n",
       "      <td>3423</td>\n",
       "      <td>derail</td>\n",
       "      <td>USA</td>\n",
       "      <td>Lake Dallas crash causes train to derail http:...</td>\n",
       "      <td>1</td>\n",
       "      <td>Lake Dallas crash causes train to derail http:...</td>\n",
       "      <td>lake dallas crash causes train to derail http:...</td>\n",
       "    </tr>\n",
       "  </tbody>\n",
       "</table>\n",
       "</div>"
      ],
      "text/plain": [
       "         id           keyword                        location  \\\n",
       "1504   2172      catastrophic  Buxton, Venice, and Nottingham   \n",
       "6984  10016           twister                         Detroit   \n",
       "2998   4306      dust%20storm                             NaN   \n",
       "3181   4567  emergency%20plan             Surrey & Manchester   \n",
       "2381   3423            derail                             USA   \n",
       "\n",
       "                                                   text  target  \\\n",
       "1504  'Invading Iraq was a catastrophic mistake'.\\n\\...       1   \n",
       "6984  Crazy Mom Threw Teen Daughter a NUDE Twister S...       0   \n",
       "2998  Kids Disappear in Dust Storm in Atmospheric Au...       1   \n",
       "3181  NHS England announces new plan to meet emergen...       0   \n",
       "2381  Lake Dallas crash causes train to derail http:...       1   \n",
       "\n",
       "                                                text_ex  \\\n",
       "1504  'Invading Iraq was a catastrophic mistake'.\\n\\...   \n",
       "6984  Crazy Mom Threw Teen Daughter a NUDE Twister S...   \n",
       "2998  Kids Disappear in Dust Storm in Atmospheric Au...   \n",
       "3181  NHS England announces new plan to meet emergen...   \n",
       "2381  Lake Dallas crash causes train to derail http:...   \n",
       "\n",
       "                                             text_lower  \n",
       "1504  'invading iraq was a catastrophic mistake'.\\n\\...  \n",
       "6984  crazy mom threw teen daughter a nude twister s...  \n",
       "2998  kids disappear in dust storm in atmospheric au...  \n",
       "3181  nhs england announces new plan to meet emergen...  \n",
       "2381  lake dallas crash causes train to derail http:...  "
      ]
     },
     "execution_count": 13,
     "metadata": {},
     "output_type": "execute_result"
    }
   ],
   "source": [
    "train['text_lower'] = train['text_ex'].str.lower()\n",
    "dev['text_lower'] = dev['text_ex'].str.lower()\n",
    "train.head()"
   ]
  },
  {
   "cell_type": "markdown",
   "metadata": {},
   "source": [
    "- Strip Punctuations and Stop words."
   ]
  },
  {
   "cell_type": "code",
   "execution_count": 14,
   "metadata": {},
   "outputs": [
    {
     "data": {
      "text/plain": [
       "1504    invading iraq catastrophic mistake diplomacy n...\n",
       "6984    crazy mom threw teen daughter nude twister sex...\n",
       "2998    kids disappear dust storm atmospheric aussie t...\n",
       "3181    nhs england announces new plan meet emergency ...\n",
       "2381                lake dallas crash causes train derail\n",
       "Name: text_cleaned, dtype: object"
      ]
     },
     "execution_count": 14,
     "metadata": {},
     "output_type": "execute_result"
    }
   ],
   "source": [
    "def cleaning(text):\n",
    "    #remove links\n",
    "    text = re.sub(r'https?://\\S+|www\\.\\S+', '', text)\n",
    "    #remove punctuations\n",
    "    text = re.sub('[%s]' % re.escape(string.punctuation), '', text)\n",
    "    #remove multiple spaces\n",
    "    text = re.sub(r\"\\s+\", \" \", text)\n",
    "    # remove stopwords\n",
    "    text_token = nltk.word_tokenize(text)\n",
    "    words = [w for w in text_token if w not in stopwords.words('english')]\n",
    "    return ' '.join(words)\n",
    "\n",
    "train['text_cleaned'] = train['text_lower'].apply(cleaning)\n",
    "train['text_cleaned'].head()"
   ]
  },
  {
   "cell_type": "code",
   "execution_count": 23,
   "metadata": {
    "scrolled": true
   },
   "outputs": [
    {
     "data": {
      "text/html": [
       "<div>\n",
       "<style scoped>\n",
       "    .dataframe tbody tr th:only-of-type {\n",
       "        vertical-align: middle;\n",
       "    }\n",
       "\n",
       "    .dataframe tbody tr th {\n",
       "        vertical-align: top;\n",
       "    }\n",
       "\n",
       "    .dataframe thead th {\n",
       "        text-align: right;\n",
       "    }\n",
       "</style>\n",
       "<table border=\"1\" class=\"dataframe\">\n",
       "  <thead>\n",
       "    <tr style=\"text-align: right;\">\n",
       "      <th></th>\n",
       "      <th>id</th>\n",
       "      <th>keyword</th>\n",
       "      <th>location</th>\n",
       "      <th>text</th>\n",
       "      <th>target</th>\n",
       "      <th>text_ex</th>\n",
       "      <th>text_lower</th>\n",
       "      <th>text_cleaned</th>\n",
       "      <th>text_fv</th>\n",
       "    </tr>\n",
       "  </thead>\n",
       "  <tbody>\n",
       "    <tr>\n",
       "      <th>1971</th>\n",
       "      <td>2836</td>\n",
       "      <td>cyclone</td>\n",
       "      <td>NaN</td>\n",
       "      <td>1970 Mercury Cyclone GT Hood Moulding Very NIC...</td>\n",
       "      <td>0</td>\n",
       "      <td>1970 Mercury Cyclone GT Hood Moulding Very NIC...</td>\n",
       "      <td>1970 mercury cyclone gt hood moulding very nic...</td>\n",
       "      <td>1970 mercury cyclone gt hood moulding nice cor...</td>\n",
       "      <td>1970 mercury cyclone hood mould nice core cobr...</td>\n",
       "    </tr>\n",
       "    <tr>\n",
       "      <th>2502</th>\n",
       "      <td>3593</td>\n",
       "      <td>desolate</td>\n",
       "      <td>NaN</td>\n",
       "      <td>The Desolate Hope: Part 2: MIRAD: http://t.co/...</td>\n",
       "      <td>0</td>\n",
       "      <td>The Desolate Hope: Part 2: MIRAD: http://t.co/...</td>\n",
       "      <td>the desolate hope: part 2: mirad: http://t.co/...</td>\n",
       "      <td>desolate hope part 2 mirad via youtube</td>\n",
       "      <td>desolate hope part mirad via youtube</td>\n",
       "    </tr>\n",
       "    <tr>\n",
       "      <th>5371</th>\n",
       "      <td>7663</td>\n",
       "      <td>panic</td>\n",
       "      <td>NaN</td>\n",
       "      <td>we was all just laughing and talking junk now ...</td>\n",
       "      <td>0</td>\n",
       "      <td>we was all just laughing and talking junk now ...</td>\n",
       "      <td>we was all just laughing and talking junk now ...</td>\n",
       "      <td>laughing talking junk everyone panic mode</td>\n",
       "      <td>laugh talk junk everyone panic mode</td>\n",
       "    </tr>\n",
       "    <tr>\n",
       "      <th>6258</th>\n",
       "      <td>8942</td>\n",
       "      <td>storm</td>\n",
       "      <td>NaN</td>\n",
       "      <td>FINALLY a storm</td>\n",
       "      <td>0</td>\n",
       "      <td>FINALLY a storm</td>\n",
       "      <td>finally a storm</td>\n",
       "      <td>finally storm</td>\n",
       "      <td>finally storm</td>\n",
       "    </tr>\n",
       "    <tr>\n",
       "      <th>549</th>\n",
       "      <td>798</td>\n",
       "      <td>battle</td>\n",
       "      <td>NaN</td>\n",
       "      <td>Dragon Ball Z: Battle Of Gods (2014) - Rotten ...</td>\n",
       "      <td>0</td>\n",
       "      <td>Dragon Ball Z: Battle Of Gods (2014) - Rotten ...</td>\n",
       "      <td>dragon ball z: battle of gods (2014) - rotten ...</td>\n",
       "      <td>dragon ball z battle gods 2014 rotten tomatoes...</td>\n",
       "      <td>dragon ball battle god 2014 rotten tomato via ...</td>\n",
       "    </tr>\n",
       "  </tbody>\n",
       "</table>\n",
       "</div>"
      ],
      "text/plain": [
       "        id   keyword location  \\\n",
       "1971  2836   cyclone      NaN   \n",
       "2502  3593  desolate      NaN   \n",
       "5371  7663     panic      NaN   \n",
       "6258  8942     storm      NaN   \n",
       "549    798    battle      NaN   \n",
       "\n",
       "                                                   text  target  \\\n",
       "1971  1970 Mercury Cyclone GT Hood Moulding Very NIC...       0   \n",
       "2502  The Desolate Hope: Part 2: MIRAD: http://t.co/...       0   \n",
       "5371  we was all just laughing and talking junk now ...       0   \n",
       "6258                                    FINALLY a storm       0   \n",
       "549   Dragon Ball Z: Battle Of Gods (2014) - Rotten ...       0   \n",
       "\n",
       "                                                text_ex  \\\n",
       "1971  1970 Mercury Cyclone GT Hood Moulding Very NIC...   \n",
       "2502  The Desolate Hope: Part 2: MIRAD: http://t.co/...   \n",
       "5371  we was all just laughing and talking junk now ...   \n",
       "6258                                    FINALLY a storm   \n",
       "549   Dragon Ball Z: Battle Of Gods (2014) - Rotten ...   \n",
       "\n",
       "                                             text_lower  \\\n",
       "1971  1970 mercury cyclone gt hood moulding very nic...   \n",
       "2502  the desolate hope: part 2: mirad: http://t.co/...   \n",
       "5371  we was all just laughing and talking junk now ...   \n",
       "6258                                    finally a storm   \n",
       "549   dragon ball z: battle of gods (2014) - rotten ...   \n",
       "\n",
       "                                           text_cleaned  \\\n",
       "1971  1970 mercury cyclone gt hood moulding nice cor...   \n",
       "2502             desolate hope part 2 mirad via youtube   \n",
       "5371          laughing talking junk everyone panic mode   \n",
       "6258                                      finally storm   \n",
       "549   dragon ball z battle gods 2014 rotten tomatoes...   \n",
       "\n",
       "                                                text_fv  \n",
       "1971  1970 mercury cyclone hood mould nice core cobr...  \n",
       "2502               desolate hope part mirad via youtube  \n",
       "5371                laugh talk junk everyone panic mode  \n",
       "6258                                      finally storm  \n",
       "549   dragon ball battle god 2014 rotten tomato via ...  "
      ]
     },
     "execution_count": 23,
     "metadata": {},
     "output_type": "execute_result"
    }
   ],
   "source": [
    "dev['text_cleaned'] = dev['text_lower'].apply(cleaning)\n",
    "dev['text_cleaned'].head()"
   ]
  },
  {
   "cell_type": "markdown",
   "metadata": {},
   "source": [
    "- Lemmatize all the words (i.e., convert every word to its root so that all of “running,” “run,” and “runs” are converted to “run” and and all of “good,” “well,” “better,” and “best” are converted to “good”; this is easily done using nltk.stem). ref: https://medium.com/@gaurav5430/using-nltk-for-lemmatizing-sentences-c1bfff963258"
   ]
  },
  {
   "cell_type": "code",
   "execution_count": 16,
   "metadata": {},
   "outputs": [],
   "source": [
    "lemmatizer = WordNetLemmatizer() \n",
    "def nltk_tag_to_wordnet_tag(nltk_tag):\n",
    "    if nltk_tag.startswith('J'):\n",
    "        return wordnet.ADJ\n",
    "    elif nltk_tag.startswith('V'):\n",
    "        return wordnet.VERB\n",
    "    elif nltk_tag.startswith('N'):\n",
    "        return wordnet.NOUN\n",
    "    elif nltk_tag.startswith('R'):\n",
    "        return wordnet.ADV\n",
    "    else:          \n",
    "        return None\n",
    "\n",
    "def lemmatize_sentence(sentence):\n",
    "    #tokenize the sentence and find the POS tag for each token\n",
    "    nltk_tagged = nltk.pos_tag(nltk.word_tokenize(sentence))  \n",
    "    #tuple of (token, wordnet_tag)\n",
    "    wordnet_tagged = map(lambda x: (x[0], nltk_tag_to_wordnet_tag(x[1])), nltk_tagged)\n",
    "    lemmatized_sentence = []\n",
    "    for word, tag in wordnet_tagged:\n",
    "        if tag is None:\n",
    "            #if there is no available tag, append the token as is\n",
    "            if len(word) > 2:\n",
    "                lemmatized_sentence.append(word)\n",
    "        else:        \n",
    "            #else use the tag to lemmatize the token\n",
    "            lemma = lemmatizer.lemmatize(word, tag)\n",
    "            if len(lemma) > 2:\n",
    "                lemmatized_sentence.append(lemma)\n",
    "    return \" \".join(lemmatized_sentence)"
   ]
  },
  {
   "cell_type": "code",
   "execution_count": 17,
   "metadata": {
    "scrolled": true
   },
   "outputs": [
    {
     "data": {
      "text/plain": [
       "1504    invade iraq catastrophic mistake diplomacy nee...\n",
       "6984    crazy mom throw teen daughter nude twister sex...\n",
       "2998    kid disappear dust storm atmospheric aussie th...\n",
       "3181    nhs england announces new plan meet emergency ...\n",
       "2381                 lake dallas crash cause train derail\n",
       "Name: text_fv, dtype: object"
      ]
     },
     "execution_count": 17,
     "metadata": {},
     "output_type": "execute_result"
    }
   ],
   "source": [
    "train['text_fv'] = train['text_cleaned'].apply(lemmatize_sentence)\n",
    "train['text_fv'].head()"
   ]
  },
  {
   "cell_type": "code",
   "execution_count": 18,
   "metadata": {},
   "outputs": [
    {
     "data": {
      "text/plain": [
       "1971    1970 mercury cyclone hood mould nice core cobr...\n",
       "2502                 desolate hope part mirad via youtube\n",
       "5371                  laugh talk junk everyone panic mode\n",
       "6258                                        finally storm\n",
       "549     dragon ball battle god 2014 rotten tomato via ...\n",
       "Name: text_fv, dtype: object"
      ]
     },
     "execution_count": 18,
     "metadata": {},
     "output_type": "execute_result"
    }
   ],
   "source": [
    "dev['text_fv'] = dev['text_cleaned'].apply(lemmatize_sentence)\n",
    "dev['text_fv'].head()"
   ]
  },
  {
   "cell_type": "markdown",
   "metadata": {},
   "source": [
    "## (d) Bag of Words model."
   ]
  },
  {
   "cell_type": "code",
   "execution_count": 19,
   "metadata": {},
   "outputs": [],
   "source": [
    "def bw(data):\n",
    "    count_vect = CountVectorizer(binary=True, min_df=0.05)\n",
    "    x_train = count_vect.fit_transform(data)\n",
    "    return x_train, count_vect"
   ]
  },
  {
   "cell_type": "code",
   "execution_count": 20,
   "metadata": {},
   "outputs": [
    {
     "data": {
      "text/plain": [
       "294"
      ]
     },
     "execution_count": 20,
     "metadata": {},
     "output_type": "execute_result"
    }
   ],
   "source": [
    "list_corpus = train['text_fv'].tolist()\n",
    "list_labels = train['target'].tolist()\n",
    "x_train_counts, count_vect = bw(list_corpus)\n",
    "x_train_counts.toarray().sum()"
   ]
  },
  {
   "cell_type": "code",
   "execution_count": 21,
   "metadata": {},
   "outputs": [
    {
     "data": {
      "image/png": "[encoded data removed]",
      "text/plain": [
       "<Figure size 576x396 with 1 Axes>"
      ]
     },
     "metadata": {},
     "output_type": "display_data"
    },
    {
     "data": {
      "text/plain": [
       "<matplotlib.axes._subplots.AxesSubplot at 0x7fac74649130>"
      ]
     },
     "execution_count": 21,
     "metadata": {},
     "output_type": "execute_result"
    }
   ],
   "source": [
    "# from yellowbrick.classifier import ClassificationReport\n",
    "# from yellowbrick.classifier import ROCAUC\n",
    "# from yellowbrick.classifier import PrecisionRecallCurve\n",
    "# from yellowbrick.model_selection import FeatureImportances\n",
    "# from yellowbrick.classifier import ConfusionMatrix\n",
    "from yellowbrick.text import FreqDistVisualizer\n",
    "# from yellowbrick.text import TSNEVisualizer\n",
    "# from yellowbrick.contrib.classifier import DecisionViz\n",
    "# from yellowbrick.classifier import DiscriminationThreshold\n",
    "count_vect=CountVectorizer(binary=True, min_df = 100)\n",
    "X_train=count_vect.fit_transform(list_corpus)\n",
    "features = count_vect.get_feature_names()\n",
    "visualizer = FreqDistVisualizer(features=features, orient='h', n=10)\n",
    "visualizer.fit(X_train)\n",
    "visualizer.show()"
   ]
  },
  {
   "cell_type": "code",
   "execution_count": 22,
   "metadata": {},
   "outputs": [
    {
     "name": "stdout",
     "output_type": "stream",
     "text": [
      "['eight', 'everywhere', 'five', 'four', 'nine', 'one', 'seven', 'six', 'three', 'two']\n",
      "[[0 1 0 0 0 1 0 0 1 1]\n",
      " [0 1 1 1 0 0 0 1 0 0]\n",
      " [1 1 0 0 1 0 1 0 0 0]]\n"
     ]
    }
   ],
   "source": [
    "corpus = ['one two three everywhere', 'four five six everywhere', 'seven eight nine everywhere']\n",
    "count_vect = CountVectorizer(binary=True, min_df=0.01)\n",
    "# below we call fit_transform on the corpus and get the feature names.\n",
    "X = count_vect.fit_transform(corpus)\n",
    "vocab = count_vect.get_feature_names()\n",
    "print(vocab)\n",
    "print(X.toarray())\n"
   ]
  },
  {
   "cell_type": "code",
   "execution_count": null,
   "metadata": {},
   "outputs": [],
   "source": []
  },
  {
   "cell_type": "code",
   "execution_count": null,
   "metadata": {},
   "outputs": [],
   "source": []
  },
  {
   "cell_type": "code",
   "execution_count": null,
   "metadata": {},
   "outputs": [],
   "source": []
  },
  {
   "cell_type": "code",
   "execution_count": null,
   "metadata": {},
   "outputs": [],
   "source": []
  },
  {
   "cell_type": "markdown",
   "metadata": {},
   "source": [
    "# Writeup"
   ]
  },
  {
   "cell_type": "markdown",
   "metadata": {},
   "source": [
    "## 1a."
   ]
  },
  {
   "cell_type": "code",
   "execution_count": 85,
   "metadata": {},
   "outputs": [],
   "source": [
    "df = pd.DataFrame({'x1': [3,2,4,1,2,4,4], 'x2': [4,2,4,4,1,3,1], 'y': [0,0,0,0,1,1,1] })  \n",
    "X, y = df[['x1','x2']].to_numpy(), df.y.to_numpy()\n",
    "x_min, x_max = X[:, 0].min() - .5, X[:, 0].max() + .5\n",
    "y_min, y_max = X[:, 1].min() - .5, X[:, 1].max() + .5\n",
    "xx, yy = np.meshgrid(np.arange(x_min, x_max, .02), np.arange(y_min, y_max, .02))"
   ]
  },
  {
   "cell_type": "code",
   "execution_count": 86,
   "metadata": {},
   "outputs": [
    {
     "data": {
      "image/png": "[encoded data removed]",
      "text/plain": [
       "<Figure size 432x288 with 1 Axes>"
      ]
     },
     "metadata": {
      "needs_background": "light"
     },
     "output_type": "display_data"
    }
   ],
   "source": [
    "from sklearn.svm import SVC\n",
    "import numpy as np\n",
    "import matplotlib.pyplot as plt\n",
    "\n",
    "model = SVC(kernel='linear', C=10000)\n",
    "model.fit(X, y)\n",
    "Z = model.predict(np.c_[xx.ravel(), yy.ravel()])\n",
    "Z = Z.reshape(xx.shape)\n",
    "plt.pcolormesh(xx, yy, Z, cmap=plt.cm.Paired) \n",
    "p1 = plt.scatter(X[:, 0], X[:, 1], c=y)\n",
    "plt.xlabel('x1')\n",
    "plt.ylabel('x2')\n",
    "plt.show()"
   ]
  },
  {
   "cell_type": "markdown",
   "metadata": {},
   "source": [
    "## 1b."
   ]
  },
  {
   "cell_type": "code",
   "execution_count": 90,
   "metadata": {},
   "outputs": [
    {
     "data": {
      "text/plain": [
       "array([[ 1.9998464, -1.9996928]])"
      ]
     },
     "execution_count": 90,
     "metadata": {},
     "output_type": "execute_result"
    }
   ],
   "source": [
    "model.coef_"
   ]
  },
  {
   "cell_type": "markdown",
   "metadata": {},
   "source": [
    "$$ y = -1.9996928 + 1.9998464*x$$ "
   ]
  },
  {
   "cell_type": "markdown",
   "metadata": {},
   "source": [
    "## 1c."
   ]
  },
  {
   "cell_type": "code",
   "execution_count": 39,
   "metadata": {},
   "outputs": [
    {
     "data": {
      "image/png": "[encoded data removed]",
      "text/plain": [
       "<Figure size 432x288 with 1 Axes>"
      ]
     },
     "metadata": {
      "needs_background": "light"
     },
     "output_type": "display_data"
    }
   ],
   "source": [
    "Z = model.decision_function(np.c_[xx.ravel(), yy.ravel()]).## 1b.reshape(xx.shape)\n",
    "plt.contour(xx, yy, Z, colors='k', levels=[-1, 0, 1], alpha=0.5,\n",
    "           linestyles=['--', '-', '--'])\n",
    "p1 = plt.scatter(X[:, 0], X[:, 1], c=y)\n"
   ]
  },
  {
   "cell_type": "markdown",
   "metadata": {},
   "source": [
    "## 1d."
   ]
  },
  {
   "cell_type": "code",
   "execution_count": 45,
   "metadata": {
    "scrolled": true
   },
   "outputs": [
    {
     "data": {
      "text/plain": [
       "<matplotlib.collections.PathCollection at 0x7fbf29996d30>"
      ]
     },
     "execution_count": 45,
     "metadata": {},
     "output_type": "execute_result"
    },
    {
     "data": {
      "image/png": "[encoded data removed]",
      "text/plain": [
       "<Figure size 432x288 with 1 Axes>"
      ]
     },
     "metadata": {
      "needs_background": "light"
     },
     "output_type": "display_data"
    }
   ],
   "source": [
    "plt.scatter(X[:, 0], X[:, 1], c=y)\n",
    "plt.scatter(model.support_vectors_[:, 0], model.support_vectors_[:, 1], s=100,\n",
    "           linewidth=1, facecolors='none', edgecolors='k')\n"
   ]
  },
  {
   "cell_type": "markdown",
   "metadata": {},
   "source": [
    "## 1e."
   ]
  },
  {
   "cell_type": "markdown",
   "metadata": {},
   "source": [
    "At optimal, the parameters of the decision boundary is a linear combination of only the support vectors. Since the 7th point is not a support vector, the decision boundary will not change if it only changes a little."
   ]
  },
  {
   "cell_type": "markdown",
   "metadata": {},
   "source": [
    "## 1f."
   ]
  },
  {
   "cell_type": "code",
   "execution_count": 64,
   "metadata": {
    "scrolled": true
   },
   "outputs": [
    {
     "data": {
      "image/png": "[encoded data removed]",
      "text/plain": [
       "<Figure size 432x288 with 1 Axes>"
      ]
     },
     "metadata": {
      "needs_background": "light"
     },
     "output_type": "display_data"
    }
   ],
   "source": [
    "point1 = [0, 0]\n",
    "point2 = [6, 5]\n",
    "x_values = [point1[0], point2[0]]\n",
    "y_values = [point1[1], point2[1]]\n",
    "plt.plot(x_values, y_values)\n",
    "\n",
    "p1 = plt.scatter(X[:, 0], X[:, 1], c=y)\n",
    "plt.xlabel('x1')\n",
    "plt.ylabel('x2')\n",
    "plt.show()"
   ]
  },
  {
   "cell_type": "markdown",
   "metadata": {},
   "source": [
    "$$ y = 5/6* x$$"
   ]
  },
  {
   "cell_type": "markdown",
   "metadata": {},
   "source": [
    "## 1g."
   ]
  },
  {
   "cell_type": "code",
   "execution_count": 81,
   "metadata": {},
   "outputs": [
    {
     "data": {
      "image/png": "[encoded data removed]",
      "text/plain": [
       "<Figure size 432x288 with 1 Axes>"
      ]
     },
     "metadata": {
      "needs_background": "light"
     },
     "output_type": "display_data"
    }
   ],
   "source": [
    "X_new = np.append(X,[[1,2]],axis=0)\n",
    "y_new = np.append(y,[1])\n",
    "p1 = plt.scatter(X_new[:, 0], X_new[:, 1], c=y_new)\n",
    "plt.xlabel('x1')\n",
    "plt.ylabel('x2')\n",
    "plt.show()"
   ]
  },
  {
   "cell_type": "code",
   "execution_count": null,
   "metadata": {},
   "outputs": [],
   "source": []
  },
  {
   "cell_type": "code",
   "execution_count": null,
   "metadata": {},
   "outputs": [],
   "source": []
  }
 ],
 "metadata": {
  "kernelspec": {
   "display_name": "Python 3",
   "language": "python",
   "name": "python3"
  },
  "language_info": {
   "codemirror_mode": {
    "name": "ipython",
    "version": 3
   },
   "file_extension": ".py",
   "mimetype": "text/x-python",
   "name": "python",
   "nbconvert_exporter": "python",
   "pygments_lexer": "ipython3",
   "version": "3.8.3"
  }
 },
 "nbformat": 4,
 "nbformat_minor": 4
}
